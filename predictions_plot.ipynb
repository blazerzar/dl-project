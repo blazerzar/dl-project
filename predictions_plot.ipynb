{
 "cells": [
  {
   "cell_type": "markdown",
   "id": "34e32918",
   "metadata": {},
   "source": [
    "# SELD predictions plot\n"
   ]
  },
  {
   "cell_type": "code",
   "execution_count": 1,
   "id": "13ad389b",
   "metadata": {},
   "outputs": [
    {
     "name": "stdout",
     "output_type": "stream",
     "text": [
      "Using device: cuda\n"
     ]
    }
   ],
   "source": [
    "import matplotlib.pyplot as plt\n",
    "import numpy as np\n",
    "import torch\n",
    "\n",
    "from datasets import FixedLengthDataset\n",
    "from multi_task import MultiTaskSELD, multi_task_loss\n",
    "\n",
    "NUM_CLASSES = 13\n",
    "MAX_EVENTS = 5\n",
    "\n",
    "FEATURES_DIR = 'data/features_dev'\n",
    "NORMALIZED_DIR = 'data/normalized_dev'\n",
    "\n",
    "torch.set_grad_enabled(False)\n",
    "\n",
    "device = torch.device('cuda' if torch.cuda.is_available() else 'cpu')\n",
    "print(f'Using device: {device}')\n",
    "\n",
    "plt.rcParams['font.family'] = 'Times New Roman'\n",
    "plt.rcParams['font.size'] = 9\n",
    "plt.rcParams['legend.fontsize'] = 9\n",
    "\n",
    "plt.rcParams['xtick.direction'] = 'in'\n",
    "plt.rcParams['ytick.direction'] = 'in'\n",
    "plt.rcParams['xtick.major.width'] = 0.5\n",
    "plt.rcParams['ytick.major.width'] = 0.5"
   ]
  },
  {
   "cell_type": "code",
   "execution_count": 2,
   "id": "9a1584a8",
   "metadata": {},
   "outputs": [
    {
     "data": {
      "text/plain": [
       "<All keys matched successfully>"
      ]
     },
     "execution_count": 2,
     "metadata": {},
     "output_type": "execute_result"
    }
   ],
   "source": [
    "test_dataset = FixedLengthDataset(\n",
    "    FEATURES_DIR, split='test', normalized_dir=NORMALIZED_DIR\n",
    ")\n",
    "\n",
    "model_args = {\n",
    "    'backbone': 'conformer',\n",
    "    'num_classes': NUM_CLASSES,\n",
    "    'num_events': MAX_EVENTS,\n",
    "    'input_dim': 7,\n",
    "    'hidden_dim': 64,\n",
    "    'dropout': 0.05,\n",
    "}\n",
    "model = MultiTaskSELD(**model_args).to(device)\n",
    "model.eval()\n",
    "model.load_state_dict(torch.load('data/conformer_all.pth'))"
   ]
  },
  {
   "cell_type": "code",
   "execution_count": 3,
   "id": "b54f8a7e",
   "metadata": {},
   "outputs": [],
   "source": [
    "# Inde, loss and number of classes for each sample\n",
    "results = np.zeros((len(test_dataset), 3))\n",
    "\n",
    "for i, (features, labels, *_) in enumerate(test_dataset):\n",
    "    features = features.to(device).unsqueeze(0)\n",
    "    labels = labels.to(device).unsqueeze(0)\n",
    "    outputs = model(features)\n",
    "\n",
    "    classes = labels[:, 0, :, 0].unique().numpy(force=True)\n",
    "    classes = classes[classes > 0]\n",
    "\n",
    "    loss, predictions, labels = multi_task_loss(\n",
    "        outputs, labels, sde_weight=0, predictions=True\n",
    "    )\n",
    "\n",
    "    results[i] = i, loss.item(), len(classes)"
   ]
  },
  {
   "cell_type": "code",
   "execution_count": 4,
   "id": "6b6d1afb",
   "metadata": {},
   "outputs": [
    {
     "name": "stdout",
     "output_type": "stream",
     "text": [
      "Classes: 1\n",
      " 2332 | 0.0001\n",
      " 2144 | 0.0001\n",
      " 2045 | 0.0002\n",
      " 2078 | 0.0002\n",
      " 2252 | 0.0002\n",
      "Classes: 2\n",
      "  328 | 0.0010\n",
      "  214 | 0.0011\n",
      "  300 | 0.0022\n",
      "  432 | 0.0028\n",
      " 1420 | 0.0029\n",
      "Classes: 3\n",
      "   12 | 0.0050\n",
      " 1080 | 0.0069\n",
      "  439 | 0.0073\n",
      "  302 | 0.0105\n",
      " 1196 | 0.0105\n",
      "Classes: 4\n",
      "  216 | 0.0070\n",
      "  288 | 0.0074\n",
      "  529 | 0.0188\n",
      "  525 | 0.0336\n",
      " 2130 | 0.0444\n",
      "Classes: 5\n",
      "  272 | 0.1124\n"
     ]
    }
   ],
   "source": [
    "for classes in sorted(np.unique(results[:, 2])):\n",
    "    if classes == 0:\n",
    "        continue\n",
    "\n",
    "    rows = results[results[:, 2] == classes]\n",
    "    rows = rows[rows[:, 1].argsort()]\n",
    "    print(f'Classes: {classes:.0f}')\n",
    "    for idx, loss, _ in rows[:5]:\n",
    "        print(f'{idx:5.0f} | {loss:.4f}')\n"
   ]
  },
  {
   "cell_type": "code",
   "execution_count": 5,
   "id": "e4075dc7",
   "metadata": {},
   "outputs": [],
   "source": [
    "def cartesian_to_spherical(cartesian):\n",
    "    x = cartesian[0][1]\n",
    "    y = cartesian[0][2]\n",
    "    z = cartesian[0][3]\n",
    "    r = np.sqrt(x**2 + y**2 + z**2)\n",
    "    azimuth = np.arctan2(y, x)\n",
    "    elevation = np.asin(z / r)\n",
    "    return np.rad2deg(azimuth), np.rad2deg(elevation)\n",
    "\n",
    "\n",
    "def plot_annotations(ax, annotations):\n",
    "    activity = np.zeros((NUM_CLASSES, 50))\n",
    "    classes_azimuths = np.zeros((NUM_CLASSES, 50))\n",
    "    classes_elevation = np.zeros((NUM_CLASSES, 50))\n",
    "\n",
    "    for block, block_predictions in annotations.items():\n",
    "        for cls, class_predictions in block_predictions.items():\n",
    "            frames = class_predictions[0][0]\n",
    "            doa = class_predictions[0][1]\n",
    "            for frame, cartesian in zip(frames, doa):\n",
    "                i = block * 10 + frame\n",
    "\n",
    "                azimuth, elevation = cartesian_to_spherical(cartesian)\n",
    "                activity[cls, i] = 1\n",
    "                classes_azimuths[cls, i] = azimuth\n",
    "                classes_elevation[cls, i] = elevation\n",
    "\n",
    "    xs = np.arange(50)\n",
    "    for cls in range(NUM_CLASSES):\n",
    "        mask = activity[cls] > 0\n",
    "        ax[0].plot(xs[mask], classes_azimuths[cls, mask], lw=1.2)\n",
    "        ax[1].plot(xs[mask], classes_elevation[cls, mask], lw=1.2)\n",
    "\n",
    "\n",
    "def plot_frame_results(model, features, labels):\n",
    "    features = features.to(device).unsqueeze(0)\n",
    "    labels = labels.to(device).unsqueeze(0)\n",
    "    outputs = model(features)\n",
    "    _, predictions, labels = multi_task_loss(\n",
    "        outputs, labels, sde_weight=0, predictions=True\n",
    "    )\n",
    "\n",
    "    fig, ax = plt.subplots(2, 2, figsize=(3.39, 1.75))\n",
    "    plot_annotations(ax[:, 0], labels)\n",
    "    plot_annotations(ax[:, 1], predictions)\n",
    "\n",
    "    for col in range(2):\n",
    "        ax[0, col].set_ylim(-180, 180)\n",
    "        ax[1, col].set_ylim(-90, 90)\n",
    "        ax[0, col].set_xticks(np.arange(0, 50, 10))\n",
    "        ax[1, col].set_xticks(np.arange(0, 50, 10))\n",
    "        ax[1, col].set_xticklabels(np.arange(0, 50, 10) // 10)\n",
    "\n",
    "    for i, a in enumerate(ax.flatten()):\n",
    "        a.set_xlim(0, 49)\n",
    "        if i < 2:\n",
    "            a.set_xticklabels([])\n",
    "        if i % 2 == 1:\n",
    "            a.set_yticklabels([])\n",
    "\n",
    "    ax[0, 0].text(-18, 0.5, 'Azimuth [°]', va='center', rotation='vertical')\n",
    "    ax[1, 0].text(-18, 0.5, 'Elevation [°]', va='center', rotation='vertical')\n",
    "    ax[1, 0].set_xlabel('Time [s]')\n",
    "    ax[1, 1].set_xlabel('Time [s]')\n",
    "\n",
    "    plt.subplots_adjust(hspace=0.1, wspace=0.1 * (1.75 / 3.39))\n",
    "    plt.savefig('figures/predictions.pdf', bbox_inches='tight')\n",
    "    plt.savefig('figures/predictions.png', bbox_inches='tight', dpi=300)\n",
    "    plt.show()\n"
   ]
  },
  {
   "cell_type": "code",
   "execution_count": 6,
   "id": "79551824",
   "metadata": {},
   "outputs": [
    {
     "data": {
      "image/png": "[encoded data removed]",
      "text/plain": [
       "<Figure size 339x175 with 4 Axes>"
      ]
     },
     "metadata": {},
     "output_type": "display_data"
    }
   ],
   "source": [
    "plot_frame_results(model, *(test_dataset[529][:2]))\n"
   ]
  }
 ],
 "metadata": {
  "kernelspec": {
   "display_name": "dl-project (3.12.9)",
   "language": "python",
   "name": "python3"
  },
  "language_info": {
   "codemirror_mode": {
    "name": "ipython",
    "version": 3
   },
   "file_extension": ".py",
   "mimetype": "text/x-python",
   "name": "python",
   "nbconvert_exporter": "python",
   "pygments_lexer": "ipython3",
   "version": "3.12.9"
  }
 },
 "nbformat": 4,
 "nbformat_minor": 5
}
